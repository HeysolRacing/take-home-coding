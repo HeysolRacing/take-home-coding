import pyodbc
import pandas as pd
import csv

# Connect to the SQL Server database
cnxn = pyodbc.connect('DRIVER={SQL Server};SERVER=localhost;DATABASE=Test;UID=TestUser;PWD=Ex@mUs3R110423')

# Create a cursor to execute SQL queries
cursor = cnxn.cursor()

# Open the attached file and parse the data
with open('BING_MultiDays.csv', 'r') as file:
    data = csv.reader(file)
    
    # Skip the first 9 rows due to file format
    for i in range(9):
        next(data)
    
    next(data) # skip the header row
    
    for row in data:
        # Insert the row into the SQL Server table
        cursor.execute("INSERT INTO [dbo].[ST_MultiDays](Gregorian_date, Customer, Account_number, Account_name, Account_status, Campaign_name, Campaign_status, Ad_group_ID, Ad_group, Ad_group_status, Ad_ID, Ad_description, Ad_distribution, Ad_status, Ad_title, Ad_type, Tracking_Template, Custom_Parameters, Final_Mobile_URL, Final_URL, Top_vs_other, Display_URL, Final_App_URL, Destination_URL, Device_type, Device_OS, Delivered_match_type, BidMatchType, Language, Network, Currency_code, Impressions, Clicks, Spend, Avg_position, Conversions, Assists) VALUES (?,?,?,?,?,?,?,?,?,?,?,?,?,?,?,?,?,?,?,?,?,?,?,?,?,?,?,?,?,?,?,?,?,?,?,?,?)", row)

# Commit the changes to the database
cnxn.commit()

# Close the cursor and connection
cursor.close()
cnxn.close()
